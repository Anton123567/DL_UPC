{
 "cells": [
  {
   "cell_type": "code",
   "execution_count": 15,
   "id": "65eac7be",
   "metadata": {},
   "outputs": [
    {
     "data": {
      "text/plain": [
       "'/home/anton/Documents/Uni/Deep_Learning/DL_UPC'"
      ]
     },
     "execution_count": 15,
     "metadata": {},
     "output_type": "execute_result"
    }
   ],
   "source": [
    "pwd"
   ]
  },
  {
   "cell_type": "code",
   "execution_count": 4,
   "id": "fab74fae",
   "metadata": {},
   "outputs": [
    {
     "name": "stdout",
     "output_type": "stream",
     "text": [
      "/home/anton/Documents/Uni/Deep_Learning/DL_UPC\n"
     ]
    }
   ],
   "source": [
    "cd .."
   ]
  },
  {
   "cell_type": "code",
   "execution_count": 5,
   "id": "7f3763fc",
   "metadata": {},
   "outputs": [],
   "source": [
    "try:\n",
    "  from torchinfo import summary\n",
    "except:\n",
    "  !pip install torchinfo\n",
    "  from torchinfo import summary"
   ]
  },
  {
   "cell_type": "code",
   "execution_count": 22,
   "id": "13f9d8a1",
   "metadata": {},
   "outputs": [],
   "source": [
    "import torch.nn as nn\n",
    "## Defining the model\n",
    "class CNN(nn.Module):\n",
    "    def __init__(self,\n",
    "             input_shape: int,\n",
    "             hidden_units: int,\n",
    "             output_shape: int):\n",
    "        super().__init__()\n",
    "\n",
    "        self.conv_block_1 = nn.Sequential(\n",
    "        nn.Conv2d(in_channels= input_shape,\n",
    "                out_channels= hidden_units,\n",
    "                kernel_size=3,\n",
    "                stride=1,\n",
    "                padding=1),\n",
    "        nn.ReLU(),\n",
    "        nn.MaxPool2d(kernel_size = 2))\n",
    "\n",
    "        self.conv_block_2 = nn.Sequential(\n",
    "        nn.Conv2d(in_channels= hidden_units,\n",
    "                out_channels= hidden_units,\n",
    "                kernel_size=3,\n",
    "                stride=1,\n",
    "                padding=1),\n",
    "        nn.ReLU(),\n",
    "        nn.MaxPool2d(kernel_size=2),\n",
    "        nn.Dropout2d(p=0.7)\n",
    "        )\n",
    "\n",
    "        self.classifier = nn.Sequential(\n",
    "        nn.Flatten(),\n",
    "        nn.Linear(in_features= hidden_units * 64 * 64 ,\n",
    "                out_features = output_shape))\n",
    "\n",
    "    def forward(self, x):\n",
    "        x = self.conv_block_1(x)\n",
    "        #print(f\"After 1. block: {x.shape}\")\n",
    "        x = self.conv_block_2(x)\n",
    "        #print(f\"After 2. block: {x.shape}\")\n",
    "        x= self.classifier(x)\n",
    "        #print(f\"After classifier: {x.shape}\")\n",
    "        return x\n",
    "\n"
   ]
  },
  {
   "cell_type": "code",
   "execution_count": 23,
   "id": "7e7703d1",
   "metadata": {},
   "outputs": [
    {
     "data": {
      "text/plain": [
       "=====================================================================================================================================================================\n",
       "Layer (type:depth-idx)                   Input Shape               Output Shape              Param #                   Kernel Shape              Mult-Adds\n",
       "=====================================================================================================================================================================\n",
       "CNN                                      [8, 3, 256, 256]          [8, 29]                   --                        --                        --\n",
       "├─Sequential: 1-1                        [8, 3, 256, 256]          [8, 3, 128, 128]          --                        --                        --\n",
       "│    └─Conv2d: 2-1                       [8, 3, 256, 256]          [8, 3, 256, 256]          84                        [3, 3]                    44,040,192\n",
       "│    └─ReLU: 2-2                         [8, 3, 256, 256]          [8, 3, 256, 256]          --                        --                        --\n",
       "│    └─MaxPool2d: 2-3                    [8, 3, 256, 256]          [8, 3, 128, 128]          --                        2                         --\n",
       "├─Sequential: 1-2                        [8, 3, 128, 128]          [8, 3, 64, 64]            --                        --                        --\n",
       "│    └─Conv2d: 2-4                       [8, 3, 128, 128]          [8, 3, 128, 128]          84                        [3, 3]                    11,010,048\n",
       "│    └─ReLU: 2-5                         [8, 3, 128, 128]          [8, 3, 128, 128]          --                        --                        --\n",
       "│    └─MaxPool2d: 2-6                    [8, 3, 128, 128]          [8, 3, 64, 64]            --                        2                         --\n",
       "│    └─Dropout2d: 2-7                    [8, 3, 64, 64]            [8, 3, 64, 64]            --                        --                        --\n",
       "├─Sequential: 1-3                        [8, 3, 64, 64]            [8, 29]                   --                        --                        --\n",
       "│    └─Flatten: 2-8                      [8, 3, 64, 64]            [8, 12288]                --                        --                        --\n",
       "│    └─Linear: 2-9                       [8, 12288]                [8, 29]                   356,381                   --                        2,851,048\n",
       "=====================================================================================================================================================================\n",
       "Total params: 356,549\n",
       "Trainable params: 356,549\n",
       "Non-trainable params: 0\n",
       "Total mult-adds (M): 57.90\n",
       "=====================================================================================================================================================================\n",
       "Input size (MB): 6.29\n",
       "Forward/backward pass size (MB): 15.73\n",
       "Params size (MB): 1.43\n",
       "Estimated Total Size (MB): 23.45\n",
       "====================================================================================================================================================================="
      ]
     },
     "execution_count": 23,
     "metadata": {},
     "output_type": "execute_result"
    }
   ],
   "source": [
    "\n",
    "model = CNN(3, 3, 29)\n",
    "input_size=(8, 3, 256, 256)\n",
    "summary(model,  col_names=[\"input_size\",\"output_size\", \"num_params\", \"kernel_size\", \"mult_adds\"], input_size= input_size)"
   ]
  },
  {
   "cell_type": "code",
   "execution_count": null,
   "id": "e2d3f6c7",
   "metadata": {},
   "outputs": [],
   "source": []
  }
 ],
 "metadata": {
  "kernelspec": {
   "display_name": "Python 3 (ipykernel)",
   "language": "python",
   "name": "python3"
  },
  "language_info": {
   "codemirror_mode": {
    "name": "ipython",
    "version": 3
   },
   "file_extension": ".py",
   "mimetype": "text/x-python",
   "name": "python",
   "nbconvert_exporter": "python",
   "pygments_lexer": "ipython3",
   "version": "3.10.12"
  }
 },
 "nbformat": 4,
 "nbformat_minor": 5
}
