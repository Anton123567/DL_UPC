{
 "cells": [
  {
   "cell_type": "code",
   "execution_count": 1,
   "id": "b955e336",
   "metadata": {},
   "outputs": [],
   "source": [
    "import pandas as pd\n",
    "import matplotlib.pyplot as plt"
   ]
  },
  {
   "cell_type": "code",
   "execution_count": 3,
   "id": "92f357c7",
   "metadata": {},
   "outputs": [],
   "source": [
    "    \n",
    "def plot_res(filename):\n",
    "    res = pd.read_csv(filename)\n",
    "\n",
    "\n",
    "    # Create a figure with two subplots side by side\n",
    "    fig, axes = plt.subplots(nrows=1, ncols=2, figsize=(14, 6))\n",
    "\n",
    "    # Plot data on the first subplot\n",
    "    res[[\"train_loss\", \"val_loss\"]].plot(ax=axes[0])\n",
    "    axes[0].set_title('Loss')\n",
    "    axes[0].set_ylabel('Loss Value')\n",
    "    axes[0].set_xlabel('Epoch')\n",
    "\n",
    "    # Plot data on the second subplot\n",
    "    res[[\"train_acc\", \"val_acc\"]].plot(ax=axes[1])\n",
    "    axes[1].set_title('Accuracy')\n",
    "    axes[1].set_ylabel('Accuracy Value')\n",
    "    axes[1].set_xlabel('Epoch')\n",
    "\n",
    "    # Adjust the layout and show the plot\n",
    "    plt.tight_layout()\n",
    "    plt.show()\n",
    "    \n",
    "        # Calculate the statistics you want to display, formatted to two decimal places\n",
    "    val_acc_mean_last_50 = f\"{np.mean(res['val_acc'][-50:]):.2f}\"\n",
    "    train_acc_mean_last_50 = f\"{np.mean(res['train_acc'][-50:]):.2f}\"\n",
    "    val_acc_max = f\"{np.max(res['val_acc']):.2f}\"\n",
    "    train_acc_max = f\"{np.max(res['train_acc']):.2f}\"\n",
    "\n",
    "    # Create a table data\n",
    "    data = {\n",
    "        \"Metric\": [\"Validation Accuracy\", \"Training Accuracy\"],\n",
    "        \"Mean of Last 50\": [val_acc_mean_last_50, train_acc_mean_last_50],\n",
    "        \"Maximum\": [val_acc_max, train_acc_max]\n",
    "    }\n",
    "\n",
    "    # Create a figure and a set of subplots\n",
    "    fig, ax = plt.subplots(figsize=(8, 1))  # You can adjust the size by changing the width and height in the tuple\n",
    "    # Hide axes\n",
    "    ax.xaxis.set_visible(False) \n",
    "    ax.yaxis.set_visible(False)\n",
    "    ax.set_frame_on(False)\n",
    "\n",
    "    # Create a table and put it on the axes\n",
    "    table_data = list(zip(data[\"Metric\"], data[\"Mean of Last 50\"], data[\"Maximum\"]))\n",
    "    table = ax.table(cellText=table_data, colLabels=[\"Metric\", \"Mean of Last 50\", \"Maximum\"], loc='center', cellLoc='center')\n",
    "\n",
    "    # Adjust table scale\n",
    "    table.auto_set_font_size(True)\n",
    "    table.set_fontsize(12)\n",
    "    table.scale(1.2, 1.2)\n",
    "    \n",
    "    plt.tight_layout()\n",
    "    plt.show()\n"
   ]
  },
  {
   "cell_type": "code",
   "execution_count": null,
   "id": "ee2683c4",
   "metadata": {},
   "outputs": [],
   "source": []
  }
 ],
 "metadata": {
  "kernelspec": {
   "display_name": "Python 3 (ipykernel)",
   "language": "python",
   "name": "python3"
  },
  "language_info": {
   "codemirror_mode": {
    "name": "ipython",
    "version": 3
   },
   "file_extension": ".py",
   "mimetype": "text/x-python",
   "name": "python",
   "nbconvert_exporter": "python",
   "pygments_lexer": "ipython3",
   "version": "3.10.13"
  }
 },
 "nbformat": 4,
 "nbformat_minor": 5
}
